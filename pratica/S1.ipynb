{
  "nbformat": 4,
  "nbformat_minor": 0,
  "metadata": {
    "colab": {
      "provenance": [],
      "collapsed_sections": []
    },
    "kernelspec": {
      "name": "python3",
      "display_name": "Python 3"
    },
    "language_info": {
      "name": "python"
    }
  },
  "cells": [
    {
      "cell_type": "markdown",
      "source": [
        "# Python: Primera sesión\n",
        "## Autor: Carlos Adrián Alarcón\n",
        "### Tema: Introducción\n",
        "\n",
        "Este es un párrafo introductorio a `python`. Lo que vamos a ver es:\n",
        "\n",
        "1. Tipos de datos\n",
        "2. Variables\n",
        "\n",
        "Quiero aprender **python** porque:\n",
        "\n",
        "* Es muy demandado en el mercado\n",
        "\n"
      ],
      "metadata": {
        "id": "KAQHi6Ro9ZLs"
      }
    },
    {
      "cell_type": "code",
      "execution_count": null,
      "metadata": {
        "colab": {
          "base_uri": "https://localhost:8080/"
        },
        "id": "F_xDk_VS8qLi",
        "outputId": "4dd77908-c1cd-4440-9236-29121912dffd"
      },
      "outputs": [
        {
          "output_type": "stream",
          "name": "stdout",
          "text": [
            "Hola mundo\n"
          ]
        }
      ],
      "source": [
        "# Este es un comentario\n",
        "\n",
        "print('Hola mundo')\n"
      ]
    },
    {
      "cell_type": "code",
      "source": [
        "print('Ella me dijo: \"hola\"')"
      ],
      "metadata": {
        "colab": {
          "base_uri": "https://localhost:8080/"
        },
        "id": "teEEM6O0_Skm",
        "outputId": "c7d4d952-2f6a-4f02-c496-479e9dc058dd"
      },
      "execution_count": null,
      "outputs": [
        {
          "output_type": "stream",
          "name": "stdout",
          "text": [
            "Ella me dijo: \"hola\"\n"
          ]
        }
      ]
    },
    {
      "cell_type": "code",
      "source": [
        "print(\"let's go\")"
      ],
      "metadata": {
        "colab": {
          "base_uri": "https://localhost:8080/"
        },
        "id": "uP74vbxy_gf6",
        "outputId": "0b53fc4f-b2f6-403d-9f0b-5692295c9965"
      },
      "execution_count": null,
      "outputs": [
        {
          "output_type": "stream",
          "name": "stdout",
          "text": [
            "let's go\n"
          ]
        }
      ]
    },
    {
      "cell_type": "code",
      "source": [
        "print('''She said: \"Let's go\"''')"
      ],
      "metadata": {
        "colab": {
          "base_uri": "https://localhost:8080/"
        },
        "id": "a-1MG9RP_n5S",
        "outputId": "b2157ac0-d91a-4ea9-d4e9-8a19af2f5e24"
      },
      "execution_count": null,
      "outputs": [
        {
          "output_type": "stream",
          "name": "stdout",
          "text": [
            "She said: \"Let's go\"\n"
          ]
        }
      ]
    },
    {
      "cell_type": "code",
      "source": [
        "# Preguntar el tipo de dato\n",
        "\n",
        "print(type('hola'))"
      ],
      "metadata": {
        "colab": {
          "base_uri": "https://localhost:8080/"
        },
        "id": "N2aPpv5P_6Fl",
        "outputId": "28f9a2e0-8d27-4ed8-f253-8dc2fe84fe7e"
      },
      "execution_count": null,
      "outputs": [
        {
          "output_type": "stream",
          "name": "stdout",
          "text": [
            "<class 'str'>\n"
          ]
        }
      ]
    },
    {
      "cell_type": "code",
      "source": [
        "# Entero\n",
        "\n",
        "print(type(1))"
      ],
      "metadata": {
        "colab": {
          "base_uri": "https://localhost:8080/"
        },
        "id": "sHF7zSYfAIN8",
        "outputId": "7352dacb-1c3a-48f9-8579-396c6da249cd"
      },
      "execution_count": null,
      "outputs": [
        {
          "output_type": "stream",
          "name": "stdout",
          "text": [
            "<class 'int'>\n"
          ]
        }
      ]
    },
    {
      "cell_type": "code",
      "source": [
        "# Float\n",
        "\n",
        "print(type(1.0))"
      ],
      "metadata": {
        "colab": {
          "base_uri": "https://localhost:8080/"
        },
        "id": "-0pVQLpEAWa2",
        "outputId": "3296929f-9146-4389-b72a-cebabf8cfb83"
      },
      "execution_count": null,
      "outputs": [
        {
          "output_type": "stream",
          "name": "stdout",
          "text": [
            "<class 'float'>\n"
          ]
        }
      ]
    },
    {
      "cell_type": "code",
      "source": [
        "print(type(1 == 2))"
      ],
      "metadata": {
        "colab": {
          "base_uri": "https://localhost:8080/"
        },
        "id": "qmjGF0WzAjqC",
        "outputId": "83d15c5a-ac6f-42df-8bd7-0cda13e03bd1"
      },
      "execution_count": null,
      "outputs": [
        {
          "output_type": "stream",
          "name": "stdout",
          "text": [
            "<class 'bool'>\n"
          ]
        }
      ]
    },
    {
      "cell_type": "code",
      "source": [
        "print(1==1)"
      ],
      "metadata": {
        "colab": {
          "base_uri": "https://localhost:8080/"
        },
        "id": "2Kct4OzRAvGS",
        "outputId": "acdff3f5-3501-471b-d780-34c9758c3f81"
      },
      "execution_count": null,
      "outputs": [
        {
          "output_type": "stream",
          "name": "stdout",
          "text": [
            "True\n"
          ]
        }
      ]
    },
    {
      "cell_type": "code",
      "source": [
        "print(2==1000)"
      ],
      "metadata": {
        "colab": {
          "base_uri": "https://localhost:8080/"
        },
        "id": "TA7wqbdpAz-r",
        "outputId": "b246765c-1f13-479c-8b2c-2186877c6423"
      },
      "execution_count": null,
      "outputs": [
        {
          "output_type": "stream",
          "name": "stdout",
          "text": [
            "False\n"
          ]
        }
      ]
    },
    {
      "cell_type": "code",
      "source": [
        "# Concatenar cadenas de texto\n",
        "print('Hola' + ' mundo')\n",
        "print('Hola','mundo')"
      ],
      "metadata": {
        "colab": {
          "base_uri": "https://localhost:8080/"
        },
        "id": "Vqdx63pCA602",
        "outputId": "a9712f60-eae4-4f10-844d-3bf44b7da0dc"
      },
      "execution_count": null,
      "outputs": [
        {
          "output_type": "stream",
          "name": "stdout",
          "text": [
            "Hola mundo\n",
            "Hola mundo\n"
          ]
        }
      ]
    },
    {
      "cell_type": "code",
      "source": [
        "# Operaciones matemáticas con enteros\n",
        "## Suma\n",
        "print(2+3)\n",
        "print(10+10)\n",
        "print(3.14 + 6.7)"
      ],
      "metadata": {
        "colab": {
          "base_uri": "https://localhost:8080/"
        },
        "id": "Y2JuU2QtBQHK",
        "outputId": "b3fb46c4-7c54-4d4f-c05d-6d02fc294277"
      },
      "execution_count": null,
      "outputs": [
        {
          "output_type": "stream",
          "name": "stdout",
          "text": [
            "5\n",
            "20\n",
            "9.84\n"
          ]
        }
      ]
    },
    {
      "cell_type": "code",
      "source": [
        "## Resta\n",
        "print(10-4)\n",
        "print(10.0 - 4.0)"
      ],
      "metadata": {
        "colab": {
          "base_uri": "https://localhost:8080/"
        },
        "id": "7p9AeLWrBb6V",
        "outputId": "c4f69646-fae0-4c6d-bedb-c343d55635b7"
      },
      "execution_count": null,
      "outputs": [
        {
          "output_type": "stream",
          "name": "stdout",
          "text": [
            "6\n",
            "6.0\n"
          ]
        }
      ]
    },
    {
      "cell_type": "code",
      "source": [
        "## División\n",
        "\n",
        "print(10/2)\n",
        "print(5.0/2.0)"
      ],
      "metadata": {
        "colab": {
          "base_uri": "https://localhost:8080/"
        },
        "id": "e-XMfFJvBeN3",
        "outputId": "234c6b6d-1ca6-4ac0-c420-9e636310151f"
      },
      "execution_count": null,
      "outputs": [
        {
          "output_type": "stream",
          "name": "stdout",
          "text": [
            "5.0\n",
            "2.5\n"
          ]
        }
      ]
    },
    {
      "cell_type": "code",
      "source": [
        "## Multiplicación\n",
        "\n",
        "print(5*5)\n",
        "print(5.0*2.0)"
      ],
      "metadata": {
        "colab": {
          "base_uri": "https://localhost:8080/"
        },
        "id": "F-pZ83e4BhdL",
        "outputId": "84c5dc6e-919e-4bf1-dbc2-79bd85a4f236"
      },
      "execution_count": null,
      "outputs": [
        {
          "output_type": "stream",
          "name": "stdout",
          "text": [
            "25\n",
            "10.0\n"
          ]
        }
      ]
    },
    {
      "cell_type": "code",
      "source": [
        "## Potencia\n",
        "\n",
        "print(2**3)\n",
        "print(2.0**3)"
      ],
      "metadata": {
        "colab": {
          "base_uri": "https://localhost:8080/"
        },
        "id": "wQVvl8BCBkQx",
        "outputId": "587d6d80-f9ef-49a7-ea86-43a00449a0a7"
      },
      "execution_count": null,
      "outputs": [
        {
          "output_type": "stream",
          "name": "stdout",
          "text": [
            "8\n",
            "8.0\n"
          ]
        }
      ]
    },
    {
      "cell_type": "code",
      "source": [
        "## Residuo\n",
        "\n",
        "print(5%2)"
      ],
      "metadata": {
        "colab": {
          "base_uri": "https://localhost:8080/"
        },
        "id": "_fvy9LT9Boyh",
        "outputId": "66769eb5-57dc-4b00-9d7d-bd3286559d50"
      },
      "execution_count": null,
      "outputs": [
        {
          "output_type": "stream",
          "name": "stdout",
          "text": [
            "1\n"
          ]
        }
      ]
    },
    {
      "cell_type": "code",
      "source": [
        "# Particularidad de Python\n",
        "\n",
        "print(1==1 + 0 )\n",
        "print(2000==0 + 0)"
      ],
      "metadata": {
        "colab": {
          "base_uri": "https://localhost:8080/"
        },
        "id": "lU_i2yV9CK2p",
        "outputId": "32939990-f8b1-4541-f0e2-66f6f9fa530f"
      },
      "execution_count": null,
      "outputs": [
        {
          "output_type": "stream",
          "name": "stdout",
          "text": [
            "True\n",
            "False\n"
          ]
        }
      ]
    },
    {
      "cell_type": "code",
      "source": [
        "# Variables\n",
        "\n",
        "a = 1\n",
        "print(a)\n",
        "print(a + 1)"
      ],
      "metadata": {
        "colab": {
          "base_uri": "https://localhost:8080/"
        },
        "id": "MH0B4oP8CpuD",
        "outputId": "eec713d8-1eee-42de-be94-553a32b70bab"
      },
      "execution_count": null,
      "outputs": [
        {
          "output_type": "stream",
          "name": "stdout",
          "text": [
            "1\n",
            "2\n"
          ]
        }
      ]
    },
    {
      "cell_type": "code",
      "source": [
        "a = 100\n",
        "b = 30\n",
        "print(a + b)"
      ],
      "metadata": {
        "colab": {
          "base_uri": "https://localhost:8080/"
        },
        "id": "jcPJU-4RC3FW",
        "outputId": "55d3d840-aaea-4f0b-bb80-3be9d8597f3a"
      },
      "execution_count": null,
      "outputs": [
        {
          "output_type": "stream",
          "name": "stdout",
          "text": [
            "130\n"
          ]
        }
      ]
    },
    {
      "cell_type": "code",
      "source": [
        "mi_variable = 100\n",
        "mi_variable = mi_variable + 700\n",
        "print(mi_variable)\n",
        "mi_variable = 1\n",
        "mi_variable = 'hola'\n",
        "print(mi_variable)"
      ],
      "metadata": {
        "colab": {
          "base_uri": "https://localhost:8080/"
        },
        "id": "loZML9D4C-cW",
        "outputId": "93ebceae-0005-4bee-a668-c644118c6cab"
      },
      "execution_count": null,
      "outputs": [
        {
          "output_type": "stream",
          "name": "stdout",
          "text": [
            "800\n",
            "hola\n"
          ]
        }
      ]
    },
    {
      "cell_type": "code",
      "source": [
        "mi_variable = 'hola mundo'"
      ],
      "metadata": {
        "id": "2R1shfvZDF5j"
      },
      "execution_count": null,
      "outputs": []
    },
    {
      "cell_type": "code",
      "source": [
        "print(mi_variable)"
      ],
      "metadata": {
        "colab": {
          "base_uri": "https://localhost:8080/"
        },
        "id": "7rlsz-ecDJAG",
        "outputId": "fbb6b0e7-21c9-491e-8494-16814ee6dcd3"
      },
      "execution_count": null,
      "outputs": [
        {
          "output_type": "stream",
          "name": "stdout",
          "text": [
            "hola mundo\n"
          ]
        }
      ]
    },
    {
      "cell_type": "code",
      "source": [
        "a = 1==1000\n",
        "b = 10\n",
        "c = b + a\n",
        "print(c)"
      ],
      "metadata": {
        "colab": {
          "base_uri": "https://localhost:8080/"
        },
        "id": "INPsKrUzDyrd",
        "outputId": "d69d0946-522f-460d-f1de-18ab63707a32"
      },
      "execution_count": null,
      "outputs": [
        {
          "output_type": "stream",
          "name": "stdout",
          "text": [
            "10\n"
          ]
        }
      ]
    },
    {
      "cell_type": "code",
      "source": [
        "# Ejercitemos\n",
        "\n",
        "a = 10\n",
        "b = a + 50\n",
        "b = 2\n",
        "a = a + b\n",
        "c = a + a \n",
        "print(c)"
      ],
      "metadata": {
        "colab": {
          "base_uri": "https://localhost:8080/"
        },
        "id": "gMWD4XvlENrm",
        "outputId": "1c493af8-2514-4148-a8e6-f047752b0443"
      },
      "execution_count": null,
      "outputs": [
        {
          "output_type": "stream",
          "name": "stdout",
          "text": [
            "24\n"
          ]
        }
      ]
    },
    {
      "cell_type": "code",
      "source": [
        "# Cambiar tipos de datos\n",
        "\n",
        "a = 10\n",
        "a = float(a)\n",
        "print(a)\n"
      ],
      "metadata": {
        "colab": {
          "base_uri": "https://localhost:8080/"
        },
        "id": "4FSVGT98E4ZN",
        "outputId": "7f36de65-36dc-4c1d-b632-3776e5a3631e"
      },
      "execution_count": null,
      "outputs": [
        {
          "output_type": "stream",
          "name": "stdout",
          "text": [
            "10.0\n"
          ]
        }
      ]
    },
    {
      "cell_type": "code",
      "source": [
        "b = 7.8\n",
        "b = int(b)\n",
        "print(b)"
      ],
      "metadata": {
        "colab": {
          "base_uri": "https://localhost:8080/"
        },
        "id": "IKAVlyooFRVI",
        "outputId": "ab811e4c-9fa7-414c-f4e7-32b249adb9f3"
      },
      "execution_count": null,
      "outputs": [
        {
          "output_type": "stream",
          "name": "stdout",
          "text": [
            "7\n"
          ]
        }
      ]
    },
    {
      "cell_type": "code",
      "source": [
        "c = 8\n",
        "c = str(c)\n",
        "print(c)"
      ],
      "metadata": {
        "colab": {
          "base_uri": "https://localhost:8080/"
        },
        "id": "PS98N7gqFZ3t",
        "outputId": "b882f6e9-07de-475f-980f-dcf3f72a7f78"
      },
      "execution_count": null,
      "outputs": [
        {
          "output_type": "stream",
          "name": "stdout",
          "text": [
            "8\n"
          ]
        }
      ]
    },
    {
      "cell_type": "code",
      "source": [
        "# Estructuras de datos!!!!\n",
        "## Lista\n",
        "\n",
        "a = []\n",
        "print(type(a))"
      ],
      "metadata": {
        "colab": {
          "base_uri": "https://localhost:8080/"
        },
        "id": "0jdB8nqVF8_f",
        "outputId": "3cbef11f-2937-44e5-d52f-3325577766c2"
      },
      "execution_count": null,
      "outputs": [
        {
          "output_type": "stream",
          "name": "stdout",
          "text": [
            "<class 'list'>\n"
          ]
        }
      ]
    },
    {
      "cell_type": "code",
      "source": [
        "a = [1,2,3,'hola',6.7, True]\n",
        "\n",
        "print(a[4])\n",
        "print(a[0])\n"
      ],
      "metadata": {
        "colab": {
          "base_uri": "https://localhost:8080/"
        },
        "id": "b9Kp9FY2GL3X",
        "outputId": "3142edd3-099c-45ba-f788-9147a651bae7"
      },
      "execution_count": null,
      "outputs": [
        {
          "output_type": "stream",
          "name": "stdout",
          "text": [
            "6.7\n",
            "1\n"
          ]
        }
      ]
    },
    {
      "cell_type": "code",
      "source": [
        "a = [1,2,3,'hola',6.7, True]\n",
        "len(a)"
      ],
      "metadata": {
        "colab": {
          "base_uri": "https://localhost:8080/"
        },
        "id": "K-bh1GdyHNrE",
        "outputId": "88fcae22-5c00-496f-92fe-5ff943330c13"
      },
      "execution_count": null,
      "outputs": [
        {
          "output_type": "execute_result",
          "data": {
            "text/plain": [
              "6"
            ]
          },
          "metadata": {},
          "execution_count": 52
        }
      ]
    },
    {
      "cell_type": "code",
      "source": [
        "b = [2,4,6,[8,10,12]]\n",
        "#print(b)\n",
        "\n",
        "b[3][1]"
      ],
      "metadata": {
        "colab": {
          "base_uri": "https://localhost:8080/"
        },
        "id": "3xjWBEDpHVYQ",
        "outputId": "fd91f551-8c31-4db6-f710-03940b701de6"
      },
      "execution_count": null,
      "outputs": [
        {
          "output_type": "execute_result",
          "data": {
            "text/plain": [
              "10"
            ]
          },
          "metadata": {},
          "execution_count": 56
        }
      ]
    },
    {
      "cell_type": "code",
      "source": [
        "c = [1,5,[10,20,[4,[True]]]]\n",
        "c[2][2][1][0]"
      ],
      "metadata": {
        "colab": {
          "base_uri": "https://localhost:8080/"
        },
        "id": "ZetcfYsXIGwd",
        "outputId": "f8d5d9fb-58dc-4c06-8301-bc3314cebd20"
      },
      "execution_count": null,
      "outputs": [
        {
          "output_type": "execute_result",
          "data": {
            "text/plain": [
              "True"
            ]
          },
          "metadata": {},
          "execution_count": 64
        }
      ]
    },
    {
      "cell_type": "code",
      "source": [
        "## Ordenar listas\n",
        "lista = [10,9,5,6,23,76]\n",
        "lista.sort()\n",
        "lista"
      ],
      "metadata": {
        "colab": {
          "base_uri": "https://localhost:8080/"
        },
        "id": "XytSM7b2JHkq",
        "outputId": "dc751701-b4a7-4342-d84c-ea6a266f747e"
      },
      "execution_count": null,
      "outputs": [
        {
          "output_type": "execute_result",
          "data": {
            "text/plain": [
              "[5, 6, 9, 10, 23, 76]"
            ]
          },
          "metadata": {},
          "execution_count": 67
        }
      ]
    },
    {
      "cell_type": "code",
      "source": [
        "## Agregar elementos a una lista\n",
        "\n",
        "lista = [2,4,6,8,10]\n",
        "\n",
        "lista.append(12)\n",
        "lista"
      ],
      "metadata": {
        "colab": {
          "base_uri": "https://localhost:8080/"
        },
        "id": "96KijuzUJjlN",
        "outputId": "a55b8b13-885c-4994-b875-d57a5ca96e8d"
      },
      "execution_count": null,
      "outputs": [
        {
          "output_type": "execute_result",
          "data": {
            "text/plain": [
              "[2, 4, 6, 8, 10, 12]"
            ]
          },
          "metadata": {},
          "execution_count": 68
        }
      ]
    },
    {
      "cell_type": "code",
      "source": [
        "a = 12\n",
        "lista = [2,4,6,8,10]\n",
        "lista.append(a)\n",
        "lista"
      ],
      "metadata": {
        "colab": {
          "base_uri": "https://localhost:8080/"
        },
        "id": "0NO5dcihJvsu",
        "outputId": "40bdb55b-1de8-4c61-ddaf-ae7030cfb85f"
      },
      "execution_count": null,
      "outputs": [
        {
          "output_type": "execute_result",
          "data": {
            "text/plain": [
              "[2, 4, 6, 8, 10, 12]"
            ]
          },
          "metadata": {},
          "execution_count": 69
        }
      ]
    },
    {
      "cell_type": "code",
      "source": [
        "## Insertar métodos en una posición determinada\n",
        "\n",
        "a = 12\n",
        "lista = [14,16,18,20]\n",
        "lista.insert(0,a)\n",
        "lista"
      ],
      "metadata": {
        "colab": {
          "base_uri": "https://localhost:8080/"
        },
        "id": "Q9HjV_IkJ4sG",
        "outputId": "5786ca01-8ebd-4538-9004-2821faca0c6b"
      },
      "execution_count": null,
      "outputs": [
        {
          "output_type": "execute_result",
          "data": {
            "text/plain": [
              "[12, 14, 16, 18, 20]"
            ]
          },
          "metadata": {},
          "execution_count": 70
        }
      ]
    },
    {
      "cell_type": "code",
      "source": [
        "lista_uno = [1,2,3]\n",
        "lista_dos = [4,5,6]\n",
        "\n",
        "lista_uno.extend(lista_dos)\n",
        "\n",
        "print(lista_uno)\n",
        "print(lista_dos)"
      ],
      "metadata": {
        "colab": {
          "base_uri": "https://localhost:8080/"
        },
        "id": "c6kqJnOFKLvz",
        "outputId": "2fe02d0b-a8d7-465a-8fcb-4c205aaf6033"
      },
      "execution_count": null,
      "outputs": [
        {
          "output_type": "stream",
          "name": "stdout",
          "text": [
            "[1, 2, 3, 4, 5, 6]\n",
            "[4, 5, 6]\n"
          ]
        }
      ]
    },
    {
      "cell_type": "code",
      "source": [
        "lista = [1,2,3,4,4,4,4,4]\n",
        "lista.remove(4)\n",
        "lista.remove(4)\n",
        "lista.remove(4)\n",
        "lista.remove(4)\n",
        "lista"
      ],
      "metadata": {
        "colab": {
          "base_uri": "https://localhost:8080/"
        },
        "id": "XEwjwsiULNXU",
        "outputId": "2813e757-c68a-4b28-d4d0-1f2315988231"
      },
      "execution_count": null,
      "outputs": [
        {
          "output_type": "execute_result",
          "data": {
            "text/plain": [
              "[1, 2, 3, 4]"
            ]
          },
          "metadata": {},
          "execution_count": 78
        }
      ]
    },
    {
      "cell_type": "code",
      "source": [
        "lista = [1,2,3,'hola']\n",
        "\n",
        "lista.pop(3)\n",
        "lista"
      ],
      "metadata": {
        "colab": {
          "base_uri": "https://localhost:8080/"
        },
        "id": "1KPfu1KtLxD0",
        "outputId": "9a261020-461f-4fbc-8afb-927725cfe957"
      },
      "execution_count": null,
      "outputs": [
        {
          "output_type": "execute_result",
          "data": {
            "text/plain": [
              "[1, 2, 3]"
            ]
          },
          "metadata": {},
          "execution_count": 79
        }
      ]
    },
    {
      "cell_type": "code",
      "source": [
        "lista = [1,2,3,'hola']\n",
        "\n",
        "lista.index('hola')\n",
        "\n",
        "lista_dos = [1,1,1,2,3]\n",
        "lista_dos.index(1)\n"
      ],
      "metadata": {
        "colab": {
          "base_uri": "https://localhost:8080/"
        },
        "id": "3-xkNHfnMADs",
        "outputId": "a0f579b3-4e5c-46fa-9f4e-dc7f50af6450"
      },
      "execution_count": null,
      "outputs": [
        {
          "output_type": "execute_result",
          "data": {
            "text/plain": [
              "0"
            ]
          },
          "metadata": {},
          "execution_count": 81
        }
      ]
    },
    {
      "cell_type": "code",
      "source": [
        "lista = [1,2,3,4,5,6]\n",
        "\n",
        "lista.reverse()\n",
        "lista\n",
        "\n",
        "lista_dos = [6,5,4,3]\n",
        "lista_dos.reverse()\n",
        "lista_dos"
      ],
      "metadata": {
        "colab": {
          "base_uri": "https://localhost:8080/"
        },
        "id": "mskD-wO9MT1J",
        "outputId": "c99c5362-f55d-45fa-9b2a-1f3967965cd8"
      },
      "execution_count": null,
      "outputs": [
        {
          "output_type": "execute_result",
          "data": {
            "text/plain": [
              "[3, 4, 5, 6]"
            ]
          },
          "metadata": {},
          "execution_count": 84
        }
      ]
    },
    {
      "cell_type": "code",
      "source": [
        "lista = [1,2,3]\n",
        "lista_dos = lista.copy()\n",
        "lista_dos"
      ],
      "metadata": {
        "colab": {
          "base_uri": "https://localhost:8080/"
        },
        "id": "jtJIzwwzMqeI",
        "outputId": "dab11f00-5307-4249-c5a6-da761ed27c93"
      },
      "execution_count": null,
      "outputs": [
        {
          "output_type": "execute_result",
          "data": {
            "text/plain": [
              "[1, 2, 3]"
            ]
          },
          "metadata": {},
          "execution_count": 85
        }
      ]
    },
    {
      "cell_type": "code",
      "source": [
        "lista_pares = [2,4,5,8]\n",
        "lista_pares[2] = 6\n",
        "lista_pares"
      ],
      "metadata": {
        "colab": {
          "base_uri": "https://localhost:8080/"
        },
        "id": "OMmAqpa7Mx63",
        "outputId": "c914e92b-069e-4e45-a787-7548af47e686"
      },
      "execution_count": null,
      "outputs": [
        {
          "output_type": "execute_result",
          "data": {
            "text/plain": [
              "[2, 4, 6, 8]"
            ]
          },
          "metadata": {},
          "execution_count": 86
        }
      ]
    },
    {
      "cell_type": "code",
      "source": [
        "## Tuplas\n",
        "\n",
        "a = (1,2)\n",
        "type(a)"
      ],
      "metadata": {
        "colab": {
          "base_uri": "https://localhost:8080/"
        },
        "id": "2k8yCfSgNKMj",
        "outputId": "8ca3ec5d-4d5a-48da-d009-09b40f02b9ee"
      },
      "execution_count": null,
      "outputs": [
        {
          "output_type": "execute_result",
          "data": {
            "text/plain": [
              "tuple"
            ]
          },
          "metadata": {},
          "execution_count": 87
        }
      ]
    },
    {
      "cell_type": "code",
      "source": [
        "len(a)"
      ],
      "metadata": {
        "colab": {
          "base_uri": "https://localhost:8080/"
        },
        "id": "y81fwd68NQBb",
        "outputId": "832428ef-5d23-405e-a007-a2641bbd85fe"
      },
      "execution_count": null,
      "outputs": [
        {
          "output_type": "execute_result",
          "data": {
            "text/plain": [
              "2"
            ]
          },
          "metadata": {},
          "execution_count": 90
        }
      ]
    },
    {
      "cell_type": "code",
      "source": [
        "a = (1,3,4,5,[10,'hola',(True,False,'mundo')])\n",
        "a[4][2][2]"
      ],
      "metadata": {
        "colab": {
          "base_uri": "https://localhost:8080/",
          "height": 35
        },
        "id": "Ix2-Dx0nNWnx",
        "outputId": "285aeb49-dd95-4d7a-9f34-0c2660e5b7d3"
      },
      "execution_count": null,
      "outputs": [
        {
          "output_type": "execute_result",
          "data": {
            "text/plain": [
              "'mundo'"
            ],
            "application/vnd.google.colaboratory.intrinsic+json": {
              "type": "string"
            }
          },
          "metadata": {},
          "execution_count": 98
        }
      ]
    },
    {
      "cell_type": "code",
      "source": [
        "a = [1,2,3,4]\n",
        "tuple(a)"
      ],
      "metadata": {
        "colab": {
          "base_uri": "https://localhost:8080/"
        },
        "id": "Ei96E0M5OoRR",
        "outputId": "4d497696-bad8-4fb6-8e81-593ea62763df"
      },
      "execution_count": null,
      "outputs": [
        {
          "output_type": "execute_result",
          "data": {
            "text/plain": [
              "(1, 2, 3, 4)"
            ]
          },
          "metadata": {},
          "execution_count": 99
        }
      ]
    },
    {
      "cell_type": "code",
      "source": [
        "a = (1,2,3,4)\n",
        "list(a)"
      ],
      "metadata": {
        "colab": {
          "base_uri": "https://localhost:8080/"
        },
        "id": "a6ojxR_sOsmM",
        "outputId": "57aac9c8-c41a-4640-eee4-c9ae22855c40"
      },
      "execution_count": null,
      "outputs": [
        {
          "output_type": "execute_result",
          "data": {
            "text/plain": [
              "[1, 2, 3, 4]"
            ]
          },
          "metadata": {},
          "execution_count": 100
        }
      ]
    },
    {
      "cell_type": "code",
      "source": [
        "## Diccionario\n",
        "\n",
        "a = {1:'a',2:'b',3:'c'}\n",
        "type(a)"
      ],
      "metadata": {
        "colab": {
          "base_uri": "https://localhost:8080/"
        },
        "id": "Z7NE2sOWO10H",
        "outputId": "6ce729ec-c17f-4a10-a1ba-4b4e8ca9ff93"
      },
      "execution_count": null,
      "outputs": [
        {
          "output_type": "execute_result",
          "data": {
            "text/plain": [
              "dict"
            ]
          },
          "metadata": {},
          "execution_count": 101
        }
      ]
    },
    {
      "cell_type": "code",
      "source": [
        "a = {'entradas':['ceviche','causa'],\n",
        "     'platos de fondo':['lomo saltado','pollito a la brasa'],\n",
        "     'postre':'helado',\n",
        "     'precio':[20,23,25]}\n",
        "    \n",
        "a.keys()\n",
        "a.values()"
      ],
      "metadata": {
        "colab": {
          "base_uri": "https://localhost:8080/"
        },
        "id": "yhbWEpWsPORg",
        "outputId": "2d2d6e30-6842-4c32-dd9a-de521208bb49"
      },
      "execution_count": null,
      "outputs": [
        {
          "output_type": "execute_result",
          "data": {
            "text/plain": [
              "dict_values([['ceviche', 'causa'], ['lomo saltado', 'pollito a la brasa'], 'helado', [20, 23, 25]])"
            ]
          },
          "metadata": {},
          "execution_count": 103
        }
      ]
    },
    {
      "cell_type": "code",
      "source": [
        "a = {'entradas':['ceviche','causa'],\n",
        "     'platos de fondo':['lomo saltado','pollito a la brasa'],\n",
        "     'postre':'helado',\n",
        "     'precio':[20,23,25]}\n",
        "\n",
        "\n",
        "a['precio']\n",
        "a['entradas']"
      ],
      "metadata": {
        "colab": {
          "base_uri": "https://localhost:8080/"
        },
        "id": "XXRTobYXPz-0",
        "outputId": "8c06747e-a87b-4ca1-ba79-5c11b6d0fb3c"
      },
      "execution_count": null,
      "outputs": [
        {
          "output_type": "execute_result",
          "data": {
            "text/plain": [
              "['ceviche', 'causa']"
            ]
          },
          "metadata": {},
          "execution_count": 105
        }
      ]
    },
    {
      "cell_type": "code",
      "source": [
        "a = {'entradas':['ceviche','causa'],\n",
        "     'platos de fondo':['lomo saltado','pollito a la brasa'],\n",
        "     'postre':'helado',\n",
        "     'precio':[20,23,25]}\n",
        "\n",
        "a.clear()\n",
        "a"
      ],
      "metadata": {
        "colab": {
          "base_uri": "https://localhost:8080/"
        },
        "id": "KVsn4eGXP9jQ",
        "outputId": "f6f0def8-626a-4c4f-f156-c7e899d44fb4"
      },
      "execution_count": null,
      "outputs": [
        {
          "output_type": "execute_result",
          "data": {
            "text/plain": [
              "{}"
            ]
          },
          "metadata": {},
          "execution_count": 106
        }
      ]
    },
    {
      "cell_type": "code",
      "source": [
        "a = {'entradas':['ceviche','causa'],\n",
        "     'platos de fondo':['lomo saltado','pollito a la brasa'],\n",
        "     'postre':'helado',\n",
        "     'precio':[20,23,25]}\n",
        "\n",
        "\n",
        "a.pop('postre')\n",
        "a"
      ],
      "metadata": {
        "colab": {
          "base_uri": "https://localhost:8080/"
        },
        "id": "VkKOXj-KQCT-",
        "outputId": "c9b2f586-993f-411e-ace5-6c5107a14743"
      },
      "execution_count": null,
      "outputs": [
        {
          "output_type": "execute_result",
          "data": {
            "text/plain": [
              "{'entradas': ['ceviche', 'causa'],\n",
              " 'platos de fondo': ['lomo saltado', 'pollito a la brasa'],\n",
              " 'precio': [20, 23, 25]}"
            ]
          },
          "metadata": {},
          "execution_count": 107
        }
      ]
    },
    {
      "cell_type": "code",
      "source": [
        "a = {'entradas':['ceviche','causa'],\n",
        "     'platos de fondo':['lomo saltado','pollito a la brasa'],\n",
        "     'postre':'helado',\n",
        "     'precio':[20,23,25]}\n",
        "\n",
        "a.items()"
      ],
      "metadata": {
        "colab": {
          "base_uri": "https://localhost:8080/"
        },
        "id": "fVNiYUDKQJyS",
        "outputId": "800fa5b7-0f1b-42b7-d21e-9853318e4c32"
      },
      "execution_count": null,
      "outputs": [
        {
          "output_type": "execute_result",
          "data": {
            "text/plain": [
              "dict_items([('entradas', ['ceviche', 'causa']), ('platos de fondo', ['lomo saltado', 'pollito a la brasa']), ('postre', 'helado'), ('precio', [20, 23, 25])])"
            ]
          },
          "metadata": {},
          "execution_count": 108
        }
      ]
    },
    {
      "cell_type": "code",
      "source": [
        "dict_uno = {'primero':1}\n",
        "dict_dos = {'segundo':2}\n",
        "\n",
        "dict_uno.update(dict_dos)\n",
        "\n",
        "dict_uno"
      ],
      "metadata": {
        "colab": {
          "base_uri": "https://localhost:8080/"
        },
        "id": "EUpueafAQR5K",
        "outputId": "2e82fd99-686b-48ac-87fa-78a00be91b58"
      },
      "execution_count": null,
      "outputs": [
        {
          "output_type": "execute_result",
          "data": {
            "text/plain": [
              "{'primero': 1, 'segundo': 2}"
            ]
          },
          "metadata": {},
          "execution_count": 110
        }
      ]
    },
    {
      "cell_type": "code",
      "source": [
        "a = {'entradas':['ceviche','causa'],\n",
        "     'platos de fondo':['lomo saltado','pollito a la brasa'],\n",
        "     'postre':'helado',\n",
        "     'precio':[20,23,25]}\n",
        "\n",
        "\n",
        "a['postre'] = ['helado','mazamorra']\n",
        "\n",
        "a"
      ],
      "metadata": {
        "colab": {
          "base_uri": "https://localhost:8080/"
        },
        "id": "9IRSPX4eQkl4",
        "outputId": "d7cc9fcc-d74f-4fb8-8abc-52779ba1ef81"
      },
      "execution_count": null,
      "outputs": [
        {
          "output_type": "execute_result",
          "data": {
            "text/plain": [
              "{'entradas': ['ceviche', 'causa'],\n",
              " 'platos de fondo': ['lomo saltado', 'pollito a la brasa'],\n",
              " 'postre': ['helado', 'mazamorra'],\n",
              " 'precio': [20, 23, 25]}"
            ]
          },
          "metadata": {},
          "execution_count": 111
        }
      ]
    },
    {
      "cell_type": "code",
      "source": [
        "a = {'entradas':['ceviche','causa'],\n",
        "     'platos de fondo':['lomo saltado','pollito a la brasa'],\n",
        "     'postre':'helado',\n",
        "     'precio':[20,23,25]}\n",
        "\n",
        "a['ubicacion'] = 'sede central'\n",
        "\n",
        "a"
      ],
      "metadata": {
        "colab": {
          "base_uri": "https://localhost:8080/"
        },
        "id": "_eYH26yoQtv2",
        "outputId": "189da8e2-fc8f-4bbf-b8e5-88a4732e56f9"
      },
      "execution_count": null,
      "outputs": [
        {
          "output_type": "execute_result",
          "data": {
            "text/plain": [
              "{'entradas': ['ceviche', 'causa'],\n",
              " 'platos de fondo': ['lomo saltado', 'pollito a la brasa'],\n",
              " 'postre': 'helado',\n",
              " 'precio': [20, 23, 25],\n",
              " 'ubicacion': 'sede central'}"
            ]
          },
          "metadata": {},
          "execution_count": 112
        }
      ]
    },
    {
      "cell_type": "code",
      "source": [
        "a = {'string':'hola',\n",
        "     'int':2,\n",
        "     'float':2.3,\n",
        "     'bool':True,\n",
        "     'list':[1,2,3],\n",
        "     'tuple':(1,2,3),\n",
        "     'dict':{1:'uno'}}\n",
        "\n",
        "a"
      ],
      "metadata": {
        "colab": {
          "base_uri": "https://localhost:8080/"
        },
        "id": "CIgwUJD6RCx2",
        "outputId": "435d897a-9d41-4ea1-a113-a5804f1cc5ff"
      },
      "execution_count": null,
      "outputs": [
        {
          "output_type": "execute_result",
          "data": {
            "text/plain": [
              "{'string': 'hola',\n",
              " 'int': 2,\n",
              " 'float': 2.3,\n",
              " 'bool': True,\n",
              " 'list': [1, 2, 3],\n",
              " 'tuple': (1, 2, 3),\n",
              " 'dict': {1: 'uno'}}"
            ]
          },
          "metadata": {},
          "execution_count": 114
        }
      ]
    }
  ]
}